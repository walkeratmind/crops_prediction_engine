{
 "cells": [
  {
   "cell_type": "code",
   "execution_count": 1,
   "metadata": {},
   "outputs": [],
   "source": [
    "import numpy as np\n",
    "import pandas as pd\n",
    "import matplotlib.pyplot as plt\n",
    "import seaborn as sns\n",
    "\n",
    "%matplotlib inline\n",
    "\n",
    "from sklearn.linear_model import LogisticRegression\n",
    "from sklearn.neighbors import KNeighborsClassifier, KNeighborsRegressor\n",
    "\n",
    "from sklearn.model_selection import train_test_split, cross_val_score\n",
    "from sklearn.model_selection import RandomizedSearchCV, GridSearchCV\n",
    "from sklearn.metrics import accuracy_score, precision_score, confusion_matrix, f1_score, r2_score,recall_score\n",
    "from sklearn.metrics import plot_confusion_matrix, plot_roc_curve, plot_precision_recall_curve"
   ]
  },
  {
   "cell_type": "markdown",
   "metadata": {},
   "source": [
    "# Load data"
   ]
  },
  {
   "cell_type": "code",
   "execution_count": 2,
   "metadata": {},
   "outputs": [
    {
     "data": {
      "text/html": [
       "<div>\n",
       "<style scoped>\n",
       "    .dataframe tbody tr th:only-of-type {\n",
       "        vertical-align: middle;\n",
       "    }\n",
       "\n",
       "    .dataframe tbody tr th {\n",
       "        vertical-align: top;\n",
       "    }\n",
       "\n",
       "    .dataframe thead th {\n",
       "        text-align: right;\n",
       "    }\n",
       "</style>\n",
       "<table border=\"1\" class=\"dataframe\">\n",
       "  <thead>\n",
       "    <tr style=\"text-align: right;\">\n",
       "      <th></th>\n",
       "      <th>district</th>\n",
       "      <th>formal_name</th>\n",
       "      <th>lat</th>\n",
       "      <th>long</th>\n",
       "      <th>time</th>\n",
       "      <th>summary</th>\n",
       "      <th>icon</th>\n",
       "      <th>sunriseTime</th>\n",
       "      <th>sunsetTime</th>\n",
       "      <th>moonPhase</th>\n",
       "      <th>...</th>\n",
       "      <th>visibility</th>\n",
       "      <th>ozone</th>\n",
       "      <th>temperatureMin</th>\n",
       "      <th>temperatureMinTime</th>\n",
       "      <th>temperatureMax</th>\n",
       "      <th>temperatureMaxTime</th>\n",
       "      <th>apparentTemperatureMin</th>\n",
       "      <th>apparentTemperatureMinTime</th>\n",
       "      <th>apparentTemperatureMax</th>\n",
       "      <th>apparentTemperatureMaxTime</th>\n",
       "    </tr>\n",
       "  </thead>\n",
       "  <tbody>\n",
       "    <tr>\n",
       "      <th>0</th>\n",
       "      <td>Achham</td>\n",
       "      <td>Mangalsen</td>\n",
       "      <td>29.136114</td>\n",
       "      <td>81.250092</td>\n",
       "      <td>2020-09-24 00:00:00</td>\n",
       "      <td>Possible light rain in the morning.</td>\n",
       "      <td>rain</td>\n",
       "      <td>2020-09-24 06:11:00</td>\n",
       "      <td>2020-09-24 18:16:00</td>\n",
       "      <td>0.27</td>\n",
       "      <td>...</td>\n",
       "      <td>15.937</td>\n",
       "      <td>254.5</td>\n",
       "      <td>17.50</td>\n",
       "      <td>2020-09-24 04:39:00</td>\n",
       "      <td>21.21</td>\n",
       "      <td>2020-09-24 18:07:00</td>\n",
       "      <td>18.92</td>\n",
       "      <td>2020-09-24 04:36:00</td>\n",
       "      <td>22.51</td>\n",
       "      <td>2020-09-24 17:44:00</td>\n",
       "    </tr>\n",
       "    <tr>\n",
       "      <th>1</th>\n",
       "      <td>Achham</td>\n",
       "      <td>Sugali</td>\n",
       "      <td>29.179807</td>\n",
       "      <td>81.372939</td>\n",
       "      <td>2020-09-24 00:00:00</td>\n",
       "      <td>Rain in the morning.</td>\n",
       "      <td>rain</td>\n",
       "      <td>2020-09-24 06:10:00</td>\n",
       "      <td>2020-09-24 18:15:00</td>\n",
       "      <td>0.27</td>\n",
       "      <td>...</td>\n",
       "      <td>16.093</td>\n",
       "      <td>253.2</td>\n",
       "      <td>15.59</td>\n",
       "      <td>2020-09-24 04:44:00</td>\n",
       "      <td>18.77</td>\n",
       "      <td>2020-09-24 18:39:00</td>\n",
       "      <td>17.23</td>\n",
       "      <td>2020-09-24 04:44:00</td>\n",
       "      <td>20.55</td>\n",
       "      <td>2020-09-24 18:32:00</td>\n",
       "    </tr>\n",
       "    <tr>\n",
       "      <th>2</th>\n",
       "      <td>Arghakhanchi</td>\n",
       "      <td>Sandhikharka</td>\n",
       "      <td>27.964022</td>\n",
       "      <td>83.120569</td>\n",
       "      <td>2020-09-24 00:00:00</td>\n",
       "      <td>Heavy rain throughout the day.</td>\n",
       "      <td>rain</td>\n",
       "      <td>2020-09-24 06:03:00</td>\n",
       "      <td>2020-09-24 18:08:00</td>\n",
       "      <td>0.27</td>\n",
       "      <td>...</td>\n",
       "      <td>8.003</td>\n",
       "      <td>250.8</td>\n",
       "      <td>17.04</td>\n",
       "      <td>2020-09-24 08:32:00</td>\n",
       "      <td>19.33</td>\n",
       "      <td>2020-09-24 12:59:00</td>\n",
       "      <td>18.23</td>\n",
       "      <td>2020-09-25 00:00:00</td>\n",
       "      <td>20.63</td>\n",
       "      <td>2020-09-24 13:00:00</td>\n",
       "    </tr>\n",
       "    <tr>\n",
       "      <th>3</th>\n",
       "      <td>Arghakhanchi</td>\n",
       "      <td>Sidhara</td>\n",
       "      <td>27.794500</td>\n",
       "      <td>82.828383</td>\n",
       "      <td>2020-09-24 00:00:00</td>\n",
       "      <td>Heavy rain and humid throughout the day.</td>\n",
       "      <td>rain</td>\n",
       "      <td>2020-09-24 06:05:00</td>\n",
       "      <td>2020-09-24 18:09:00</td>\n",
       "      <td>0.27</td>\n",
       "      <td>...</td>\n",
       "      <td>8.666</td>\n",
       "      <td>252.6</td>\n",
       "      <td>20.24</td>\n",
       "      <td>2020-09-24 08:28:00</td>\n",
       "      <td>23.04</td>\n",
       "      <td>2020-09-24 13:25:00</td>\n",
       "      <td>21.81</td>\n",
       "      <td>2020-09-24 03:23:00</td>\n",
       "      <td>24.13</td>\n",
       "      <td>2020-09-24 13:21:00</td>\n",
       "    </tr>\n",
       "    <tr>\n",
       "      <th>4</th>\n",
       "      <td>Jhapa</td>\n",
       "      <td>Chnadra Gadhi</td>\n",
       "      <td>26.396167</td>\n",
       "      <td>88.003750</td>\n",
       "      <td>2020-09-24 00:00:00</td>\n",
       "      <td>Rain and humid throughout the day.</td>\n",
       "      <td>rain</td>\n",
       "      <td>2020-09-24 05:44:00</td>\n",
       "      <td>2020-09-24 17:49:00</td>\n",
       "      <td>0.27</td>\n",
       "      <td>...</td>\n",
       "      <td>14.882</td>\n",
       "      <td>254.7</td>\n",
       "      <td>22.94</td>\n",
       "      <td>2020-09-24 04:29:00</td>\n",
       "      <td>26.99</td>\n",
       "      <td>2020-09-24 13:45:00</td>\n",
       "      <td>24.19</td>\n",
       "      <td>2020-09-24 04:27:00</td>\n",
       "      <td>32.43</td>\n",
       "      <td>2020-09-24 13:45:00</td>\n",
       "    </tr>\n",
       "    <tr>\n",
       "      <th>5</th>\n",
       "      <td>Jhapa</td>\n",
       "      <td>Gaida (Kankai)</td>\n",
       "      <td>26.689722</td>\n",
       "      <td>87.988611</td>\n",
       "      <td>2020-09-24 00:00:00</td>\n",
       "      <td>Rain and humid throughout the day.</td>\n",
       "      <td>rain</td>\n",
       "      <td>2020-09-24 05:44:00</td>\n",
       "      <td>2020-09-24 17:49:00</td>\n",
       "      <td>0.27</td>\n",
       "      <td>...</td>\n",
       "      <td>13.045</td>\n",
       "      <td>254.4</td>\n",
       "      <td>22.86</td>\n",
       "      <td>2020-09-24 04:25:00</td>\n",
       "      <td>28.49</td>\n",
       "      <td>2020-09-24 14:23:00</td>\n",
       "      <td>24.26</td>\n",
       "      <td>2020-09-24 04:20:00</td>\n",
       "      <td>39.97</td>\n",
       "      <td>2020-09-24 15:19:00</td>\n",
       "    </tr>\n",
       "  </tbody>\n",
       "</table>\n",
       "<p>6 rows × 43 columns</p>\n",
       "</div>"
      ],
      "text/plain": [
       "       district     formal_name        lat       long                 time  \\\n",
       "0        Achham       Mangalsen  29.136114  81.250092  2020-09-24 00:00:00   \n",
       "1        Achham          Sugali  29.179807  81.372939  2020-09-24 00:00:00   \n",
       "2  Arghakhanchi    Sandhikharka  27.964022  83.120569  2020-09-24 00:00:00   \n",
       "3  Arghakhanchi         Sidhara  27.794500  82.828383  2020-09-24 00:00:00   \n",
       "4         Jhapa   Chnadra Gadhi  26.396167  88.003750  2020-09-24 00:00:00   \n",
       "5         Jhapa  Gaida (Kankai)  26.689722  87.988611  2020-09-24 00:00:00   \n",
       "\n",
       "                                    summary  icon          sunriseTime  \\\n",
       "0       Possible light rain in the morning.  rain  2020-09-24 06:11:00   \n",
       "1                      Rain in the morning.  rain  2020-09-24 06:10:00   \n",
       "2            Heavy rain throughout the day.  rain  2020-09-24 06:03:00   \n",
       "3  Heavy rain and humid throughout the day.  rain  2020-09-24 06:05:00   \n",
       "4        Rain and humid throughout the day.  rain  2020-09-24 05:44:00   \n",
       "5        Rain and humid throughout the day.  rain  2020-09-24 05:44:00   \n",
       "\n",
       "            sunsetTime  moonPhase  ...  visibility  ozone temperatureMin  \\\n",
       "0  2020-09-24 18:16:00       0.27  ...      15.937  254.5          17.50   \n",
       "1  2020-09-24 18:15:00       0.27  ...      16.093  253.2          15.59   \n",
       "2  2020-09-24 18:08:00       0.27  ...       8.003  250.8          17.04   \n",
       "3  2020-09-24 18:09:00       0.27  ...       8.666  252.6          20.24   \n",
       "4  2020-09-24 17:49:00       0.27  ...      14.882  254.7          22.94   \n",
       "5  2020-09-24 17:49:00       0.27  ...      13.045  254.4          22.86   \n",
       "\n",
       "    temperatureMinTime temperatureMax   temperatureMaxTime  \\\n",
       "0  2020-09-24 04:39:00          21.21  2020-09-24 18:07:00   \n",
       "1  2020-09-24 04:44:00          18.77  2020-09-24 18:39:00   \n",
       "2  2020-09-24 08:32:00          19.33  2020-09-24 12:59:00   \n",
       "3  2020-09-24 08:28:00          23.04  2020-09-24 13:25:00   \n",
       "4  2020-09-24 04:29:00          26.99  2020-09-24 13:45:00   \n",
       "5  2020-09-24 04:25:00          28.49  2020-09-24 14:23:00   \n",
       "\n",
       "  apparentTemperatureMin  apparentTemperatureMinTime apparentTemperatureMax  \\\n",
       "0                  18.92         2020-09-24 04:36:00                  22.51   \n",
       "1                  17.23         2020-09-24 04:44:00                  20.55   \n",
       "2                  18.23         2020-09-25 00:00:00                  20.63   \n",
       "3                  21.81         2020-09-24 03:23:00                  24.13   \n",
       "4                  24.19         2020-09-24 04:27:00                  32.43   \n",
       "5                  24.26         2020-09-24 04:20:00                  39.97   \n",
       "\n",
       "   apparentTemperatureMaxTime  \n",
       "0         2020-09-24 17:44:00  \n",
       "1         2020-09-24 18:32:00  \n",
       "2         2020-09-24 13:00:00  \n",
       "3         2020-09-24 13:21:00  \n",
       "4         2020-09-24 13:45:00  \n",
       "5         2020-09-24 15:19:00  \n",
       "\n",
       "[6 rows x 43 columns]"
      ]
     },
     "execution_count": 2,
     "metadata": {},
     "output_type": "execute_result"
    }
   ],
   "source": [
    "from datetime import datetime\r\n",
    "\r\n",
    "current_time = datetime.now()\r\n",
    "# file_name = current_time.strftime(\"%Y-%m-%d\") + '.csv'\r\n",
    "file_name = \"2020-09-24.csv\"\r\n",
    "data_dir = '../input/darksky/daily'\r\n",
    "today_weather_sheet = pd.read_csv(data_dir + '/' + file_name)\r\n",
    "today_weather_sheet.head(10)"
   ]
  },
  {
   "cell_type": "code",
   "execution_count": 3,
   "metadata": {},
   "outputs": [],
   "source": [
    "crops = pd.read_csv('../input/crops_recommendation.csv')"
   ]
  },
  {
   "cell_type": "code",
   "execution_count": 4,
   "metadata": {},
   "outputs": [
    {
     "data": {
      "text/html": [
       "<div>\n",
       "<style scoped>\n",
       "    .dataframe tbody tr th:only-of-type {\n",
       "        vertical-align: middle;\n",
       "    }\n",
       "\n",
       "    .dataframe tbody tr th {\n",
       "        vertical-align: top;\n",
       "    }\n",
       "\n",
       "    .dataframe thead th {\n",
       "        text-align: right;\n",
       "    }\n",
       "</style>\n",
       "<table border=\"1\" class=\"dataframe\">\n",
       "  <thead>\n",
       "    <tr style=\"text-align: right;\">\n",
       "      <th></th>\n",
       "      <th>N</th>\n",
       "      <th>P</th>\n",
       "      <th>K</th>\n",
       "      <th>temperature</th>\n",
       "      <th>humidity</th>\n",
       "      <th>ph</th>\n",
       "      <th>rainfall</th>\n",
       "      <th>label</th>\n",
       "    </tr>\n",
       "  </thead>\n",
       "  <tbody>\n",
       "    <tr>\n",
       "      <th>0</th>\n",
       "      <td>90</td>\n",
       "      <td>42</td>\n",
       "      <td>43</td>\n",
       "      <td>20.879744</td>\n",
       "      <td>82.002744</td>\n",
       "      <td>6.502985</td>\n",
       "      <td>202.935536</td>\n",
       "      <td>rice</td>\n",
       "    </tr>\n",
       "    <tr>\n",
       "      <th>1</th>\n",
       "      <td>85</td>\n",
       "      <td>58</td>\n",
       "      <td>41</td>\n",
       "      <td>21.770462</td>\n",
       "      <td>80.319644</td>\n",
       "      <td>7.038096</td>\n",
       "      <td>226.655537</td>\n",
       "      <td>rice</td>\n",
       "    </tr>\n",
       "    <tr>\n",
       "      <th>2</th>\n",
       "      <td>60</td>\n",
       "      <td>55</td>\n",
       "      <td>44</td>\n",
       "      <td>23.004459</td>\n",
       "      <td>82.320763</td>\n",
       "      <td>7.840207</td>\n",
       "      <td>263.964248</td>\n",
       "      <td>rice</td>\n",
       "    </tr>\n",
       "    <tr>\n",
       "      <th>3</th>\n",
       "      <td>74</td>\n",
       "      <td>35</td>\n",
       "      <td>40</td>\n",
       "      <td>26.491096</td>\n",
       "      <td>80.158363</td>\n",
       "      <td>6.980401</td>\n",
       "      <td>242.864034</td>\n",
       "      <td>rice</td>\n",
       "    </tr>\n",
       "    <tr>\n",
       "      <th>4</th>\n",
       "      <td>78</td>\n",
       "      <td>42</td>\n",
       "      <td>42</td>\n",
       "      <td>20.130175</td>\n",
       "      <td>81.604873</td>\n",
       "      <td>7.628473</td>\n",
       "      <td>262.717340</td>\n",
       "      <td>rice</td>\n",
       "    </tr>\n",
       "    <tr>\n",
       "      <th>5</th>\n",
       "      <td>69</td>\n",
       "      <td>37</td>\n",
       "      <td>42</td>\n",
       "      <td>23.058049</td>\n",
       "      <td>83.370118</td>\n",
       "      <td>7.073454</td>\n",
       "      <td>251.055000</td>\n",
       "      <td>rice</td>\n",
       "    </tr>\n",
       "    <tr>\n",
       "      <th>6</th>\n",
       "      <td>69</td>\n",
       "      <td>55</td>\n",
       "      <td>38</td>\n",
       "      <td>22.708838</td>\n",
       "      <td>82.639414</td>\n",
       "      <td>5.700806</td>\n",
       "      <td>271.324860</td>\n",
       "      <td>rice</td>\n",
       "    </tr>\n",
       "    <tr>\n",
       "      <th>7</th>\n",
       "      <td>94</td>\n",
       "      <td>53</td>\n",
       "      <td>40</td>\n",
       "      <td>20.277744</td>\n",
       "      <td>82.894086</td>\n",
       "      <td>5.718627</td>\n",
       "      <td>241.974195</td>\n",
       "      <td>rice</td>\n",
       "    </tr>\n",
       "    <tr>\n",
       "      <th>8</th>\n",
       "      <td>89</td>\n",
       "      <td>54</td>\n",
       "      <td>38</td>\n",
       "      <td>24.515881</td>\n",
       "      <td>83.535216</td>\n",
       "      <td>6.685346</td>\n",
       "      <td>230.446236</td>\n",
       "      <td>rice</td>\n",
       "    </tr>\n",
       "    <tr>\n",
       "      <th>9</th>\n",
       "      <td>68</td>\n",
       "      <td>58</td>\n",
       "      <td>38</td>\n",
       "      <td>23.223974</td>\n",
       "      <td>83.033227</td>\n",
       "      <td>6.336254</td>\n",
       "      <td>221.209196</td>\n",
       "      <td>rice</td>\n",
       "    </tr>\n",
       "  </tbody>\n",
       "</table>\n",
       "</div>"
      ],
      "text/plain": [
       "    N   P   K  temperature   humidity        ph    rainfall label\n",
       "0  90  42  43    20.879744  82.002744  6.502985  202.935536  rice\n",
       "1  85  58  41    21.770462  80.319644  7.038096  226.655537  rice\n",
       "2  60  55  44    23.004459  82.320763  7.840207  263.964248  rice\n",
       "3  74  35  40    26.491096  80.158363  6.980401  242.864034  rice\n",
       "4  78  42  42    20.130175  81.604873  7.628473  262.717340  rice\n",
       "5  69  37  42    23.058049  83.370118  7.073454  251.055000  rice\n",
       "6  69  55  38    22.708838  82.639414  5.700806  271.324860  rice\n",
       "7  94  53  40    20.277744  82.894086  5.718627  241.974195  rice\n",
       "8  89  54  38    24.515881  83.535216  6.685346  230.446236  rice\n",
       "9  68  58  38    23.223974  83.033227  6.336254  221.209196  rice"
      ]
     },
     "execution_count": 4,
     "metadata": {},
     "output_type": "execute_result"
    }
   ],
   "source": [
    "crops.head(10)"
   ]
  },
  {
   "cell_type": "markdown",
   "metadata": {},
   "source": [
    "## Data Pre-Processing"
   ]
  },
  {
   "cell_type": "code",
   "execution_count": 5,
   "metadata": {},
   "outputs": [],
   "source": [
    "# Drop columns with null values\r\n",
    "crops = crops.dropna()"
   ]
  },
  {
   "cell_type": "code",
   "execution_count": 6,
   "metadata": {},
   "outputs": [
    {
     "data": {
      "text/plain": [
       "Index(['district', 'formal_name', 'lat', 'long', 'time', 'summary', 'icon',\n",
       "       'sunriseTime', 'sunsetTime', 'moonPhase', 'precipIntensity',\n",
       "       'precipIntensityMax', 'precipIntensityMaxTime', 'precipProbability',\n",
       "       'precipType', 'temperatureHigh', 'temperatureHighTime',\n",
       "       'temperatureLow', 'temperatureLowTime', 'apparentTemperatureHigh',\n",
       "       'apparentTemperatureHighTime', 'apparentTemperatureLow',\n",
       "       'apparentTemperatureLowTime', 'dewPoint', 'humidity', 'pressure',\n",
       "       'windSpeed', 'windGust', 'windGustTime', 'windBearing', 'cloudCover',\n",
       "       'uvIndex', 'uvIndexTime', 'visibility', 'ozone', 'temperatureMin',\n",
       "       'temperatureMinTime', 'temperatureMax', 'temperatureMaxTime',\n",
       "       'apparentTemperatureMin', 'apparentTemperatureMinTime',\n",
       "       'apparentTemperatureMax', 'apparentTemperatureMaxTime'],\n",
       "      dtype='object')"
      ]
     },
     "execution_count": 6,
     "metadata": {},
     "output_type": "execute_result"
    }
   ],
   "source": [
    "today_weather_sheet.columns"
   ]
  },
  {
   "cell_type": "code",
   "execution_count": 7,
   "metadata": {},
   "outputs": [
    {
     "data": {
      "text/html": [
       "<div>\n",
       "<style scoped>\n",
       "    .dataframe tbody tr th:only-of-type {\n",
       "        vertical-align: middle;\n",
       "    }\n",
       "\n",
       "    .dataframe tbody tr th {\n",
       "        vertical-align: top;\n",
       "    }\n",
       "\n",
       "    .dataframe thead th {\n",
       "        text-align: right;\n",
       "    }\n",
       "</style>\n",
       "<table border=\"1\" class=\"dataframe\">\n",
       "  <thead>\n",
       "    <tr style=\"text-align: right;\">\n",
       "      <th></th>\n",
       "      <th>district</th>\n",
       "      <th>formal_name</th>\n",
       "      <th>temperatureMin</th>\n",
       "      <th>temperatureMax</th>\n",
       "      <th>precipIntensity</th>\n",
       "      <th>precipIntensityMax</th>\n",
       "      <th>humidity</th>\n",
       "      <th>dewPoint</th>\n",
       "    </tr>\n",
       "  </thead>\n",
       "  <tbody>\n",
       "    <tr>\n",
       "      <th>0</th>\n",
       "      <td>Achham</td>\n",
       "      <td>Mangalsen</td>\n",
       "      <td>17.50</td>\n",
       "      <td>21.21</td>\n",
       "      <td>0.2563</td>\n",
       "      <td>0.8885</td>\n",
       "      <td>1.00</td>\n",
       "      <td>19.08</td>\n",
       "    </tr>\n",
       "    <tr>\n",
       "      <th>1</th>\n",
       "      <td>Achham</td>\n",
       "      <td>Sugali</td>\n",
       "      <td>15.59</td>\n",
       "      <td>18.77</td>\n",
       "      <td>0.3798</td>\n",
       "      <td>1.3815</td>\n",
       "      <td>1.00</td>\n",
       "      <td>17.01</td>\n",
       "    </tr>\n",
       "    <tr>\n",
       "      <th>2</th>\n",
       "      <td>Arghakhanchi</td>\n",
       "      <td>Sandhikharka</td>\n",
       "      <td>17.04</td>\n",
       "      <td>19.33</td>\n",
       "      <td>3.7010</td>\n",
       "      <td>7.0719</td>\n",
       "      <td>1.00</td>\n",
       "      <td>18.07</td>\n",
       "    </tr>\n",
       "    <tr>\n",
       "      <th>3</th>\n",
       "      <td>Arghakhanchi</td>\n",
       "      <td>Sidhara</td>\n",
       "      <td>20.24</td>\n",
       "      <td>23.04</td>\n",
       "      <td>3.4770</td>\n",
       "      <td>6.7534</td>\n",
       "      <td>1.00</td>\n",
       "      <td>21.60</td>\n",
       "    </tr>\n",
       "    <tr>\n",
       "      <th>4</th>\n",
       "      <td>Jhapa</td>\n",
       "      <td>Chnadra Gadhi</td>\n",
       "      <td>22.94</td>\n",
       "      <td>26.99</td>\n",
       "      <td>0.5601</td>\n",
       "      <td>1.4043</td>\n",
       "      <td>0.98</td>\n",
       "      <td>24.66</td>\n",
       "    </tr>\n",
       "    <tr>\n",
       "      <th>5</th>\n",
       "      <td>Jhapa</td>\n",
       "      <td>Gaida (Kankai)</td>\n",
       "      <td>22.86</td>\n",
       "      <td>28.49</td>\n",
       "      <td>0.6674</td>\n",
       "      <td>1.3561</td>\n",
       "      <td>1.00</td>\n",
       "      <td>25.35</td>\n",
       "    </tr>\n",
       "  </tbody>\n",
       "</table>\n",
       "</div>"
      ],
      "text/plain": [
       "       district     formal_name  temperatureMin  temperatureMax  \\\n",
       "0        Achham       Mangalsen           17.50           21.21   \n",
       "1        Achham          Sugali           15.59           18.77   \n",
       "2  Arghakhanchi    Sandhikharka           17.04           19.33   \n",
       "3  Arghakhanchi         Sidhara           20.24           23.04   \n",
       "4         Jhapa   Chnadra Gadhi           22.94           26.99   \n",
       "5         Jhapa  Gaida (Kankai)           22.86           28.49   \n",
       "\n",
       "   precipIntensity  precipIntensityMax  humidity  dewPoint  \n",
       "0           0.2563              0.8885      1.00     19.08  \n",
       "1           0.3798              1.3815      1.00     17.01  \n",
       "2           3.7010              7.0719      1.00     18.07  \n",
       "3           3.4770              6.7534      1.00     21.60  \n",
       "4           0.5601              1.4043      0.98     24.66  \n",
       "5           0.6674              1.3561      1.00     25.35  "
      ]
     },
     "execution_count": 7,
     "metadata": {},
     "output_type": "execute_result"
    }
   ],
   "source": [
    "# select only required fields from today weather\n",
    "required_fields = ['district', 'formal_name','temperatureMin', 'temperatureMax', 'precipIntensity', 'precipIntensityMax','humidity', 'dewPoint']\n",
    "weather_data = today_weather_sheet[required_fields]\n",
    "weather_data.head(10)"
   ]
  },
  {
   "cell_type": "code",
   "execution_count": 8,
   "metadata": {},
   "outputs": [
    {
     "data": {
      "text/html": [
       "<div>\n",
       "<style scoped>\n",
       "    .dataframe tbody tr th:only-of-type {\n",
       "        vertical-align: middle;\n",
       "    }\n",
       "\n",
       "    .dataframe tbody tr th {\n",
       "        vertical-align: top;\n",
       "    }\n",
       "\n",
       "    .dataframe thead th {\n",
       "        text-align: right;\n",
       "    }\n",
       "</style>\n",
       "<table border=\"1\" class=\"dataframe\">\n",
       "  <thead>\n",
       "    <tr style=\"text-align: right;\">\n",
       "      <th></th>\n",
       "      <th>temperatureMin</th>\n",
       "      <th>temperatureMax</th>\n",
       "      <th>precipIntensity</th>\n",
       "      <th>precipIntensityMax</th>\n",
       "      <th>humidity</th>\n",
       "      <th>dewPoint</th>\n",
       "    </tr>\n",
       "  </thead>\n",
       "  <tbody>\n",
       "    <tr>\n",
       "      <th>0</th>\n",
       "      <td>17.50</td>\n",
       "      <td>21.21</td>\n",
       "      <td>0.2563</td>\n",
       "      <td>0.8885</td>\n",
       "      <td>1.00</td>\n",
       "      <td>19.08</td>\n",
       "    </tr>\n",
       "    <tr>\n",
       "      <th>1</th>\n",
       "      <td>15.59</td>\n",
       "      <td>18.77</td>\n",
       "      <td>0.3798</td>\n",
       "      <td>1.3815</td>\n",
       "      <td>1.00</td>\n",
       "      <td>17.01</td>\n",
       "    </tr>\n",
       "    <tr>\n",
       "      <th>2</th>\n",
       "      <td>17.04</td>\n",
       "      <td>19.33</td>\n",
       "      <td>3.7010</td>\n",
       "      <td>7.0719</td>\n",
       "      <td>1.00</td>\n",
       "      <td>18.07</td>\n",
       "    </tr>\n",
       "    <tr>\n",
       "      <th>3</th>\n",
       "      <td>20.24</td>\n",
       "      <td>23.04</td>\n",
       "      <td>3.4770</td>\n",
       "      <td>6.7534</td>\n",
       "      <td>1.00</td>\n",
       "      <td>21.60</td>\n",
       "    </tr>\n",
       "    <tr>\n",
       "      <th>4</th>\n",
       "      <td>22.94</td>\n",
       "      <td>26.99</td>\n",
       "      <td>0.5601</td>\n",
       "      <td>1.4043</td>\n",
       "      <td>0.98</td>\n",
       "      <td>24.66</td>\n",
       "    </tr>\n",
       "    <tr>\n",
       "      <th>5</th>\n",
       "      <td>22.86</td>\n",
       "      <td>28.49</td>\n",
       "      <td>0.6674</td>\n",
       "      <td>1.3561</td>\n",
       "      <td>1.00</td>\n",
       "      <td>25.35</td>\n",
       "    </tr>\n",
       "  </tbody>\n",
       "</table>\n",
       "</div>"
      ],
      "text/plain": [
       "   temperatureMin  temperatureMax  precipIntensity  precipIntensityMax  \\\n",
       "0           17.50           21.21           0.2563              0.8885   \n",
       "1           15.59           18.77           0.3798              1.3815   \n",
       "2           17.04           19.33           3.7010              7.0719   \n",
       "3           20.24           23.04           3.4770              6.7534   \n",
       "4           22.94           26.99           0.5601              1.4043   \n",
       "5           22.86           28.49           0.6674              1.3561   \n",
       "\n",
       "   humidity  dewPoint  \n",
       "0      1.00     19.08  \n",
       "1      1.00     17.01  \n",
       "2      1.00     18.07  \n",
       "3      1.00     21.60  \n",
       "4      0.98     24.66  \n",
       "5      1.00     25.35  "
      ]
     },
     "execution_count": 8,
     "metadata": {},
     "output_type": "execute_result"
    }
   ],
   "source": [
    "weather_data.iloc[:, 2:]"
   ]
  },
  {
   "cell_type": "code",
   "execution_count": 9,
   "metadata": {},
   "outputs": [
    {
     "data": {
      "text/html": [
       "<div>\n",
       "<style scoped>\n",
       "    .dataframe tbody tr th:only-of-type {\n",
       "        vertical-align: middle;\n",
       "    }\n",
       "\n",
       "    .dataframe tbody tr th {\n",
       "        vertical-align: top;\n",
       "    }\n",
       "\n",
       "    .dataframe thead th {\n",
       "        text-align: right;\n",
       "    }\n",
       "</style>\n",
       "<table border=\"1\" class=\"dataframe\">\n",
       "  <thead>\n",
       "    <tr style=\"text-align: right;\">\n",
       "      <th></th>\n",
       "      <th>district</th>\n",
       "      <th>formal_name</th>\n",
       "      <th>temperatureMin</th>\n",
       "      <th>temperatureMax</th>\n",
       "      <th>precipIntensity</th>\n",
       "      <th>precipIntensityMax</th>\n",
       "      <th>humidity</th>\n",
       "      <th>dewPoint</th>\n",
       "    </tr>\n",
       "  </thead>\n",
       "  <tbody>\n",
       "    <tr>\n",
       "      <th>0</th>\n",
       "      <td>achham</td>\n",
       "      <td>sugali</td>\n",
       "      <td>15.61</td>\n",
       "      <td>27.4</td>\n",
       "      <td>0.1610</td>\n",
       "      <td>0.4926</td>\n",
       "      <td>0.85</td>\n",
       "      <td>18.11</td>\n",
       "    </tr>\n",
       "    <tr>\n",
       "      <th>2</th>\n",
       "      <td>achham</td>\n",
       "      <td>mangalsen</td>\n",
       "      <td>17.78</td>\n",
       "      <td>29.6</td>\n",
       "      <td>0.2226</td>\n",
       "      <td>0.5954</td>\n",
       "      <td>0.82</td>\n",
       "      <td>19.65</td>\n",
       "    </tr>\n",
       "  </tbody>\n",
       "</table>\n",
       "</div>"
      ],
      "text/plain": [
       "  district formal_name  temperatureMin  temperatureMax  precipIntensity  \\\n",
       "0   achham      sugali           15.61            27.4           0.1610   \n",
       "2   achham   mangalsen           17.78            29.6           0.2226   \n",
       "\n",
       "   precipIntensityMax  humidity  dewPoint  \n",
       "0              0.4926      0.85     18.11  \n",
       "2              0.5954      0.82     19.65  "
      ]
     },
     "execution_count": 9,
     "metadata": {},
     "output_type": "execute_result"
    }
   ],
   "source": [
    "import os\r\n",
    "location = \"achham\"\r\n",
    "weather_list = []\r\n",
    "weather_data = pd.DataFrame([], columns=[])\r\n",
    "for daily_weather_log in os.listdir(data_dir):\r\n",
    "    daily_weather = pd.read_csv(data_dir + '/' + daily_weather_log)\r\n",
    "    location_weather = daily_weather.loc[daily_weather['district'] == location]\r\n",
    "    # location_weather = location_weather.drop(['district', 'formal_name'], axis=1)\r\n",
    "    # weather_list.append(location_weather)\r\n",
    "\r\n",
    "    weather_data = weather_data.append(location_weather)\r\n",
    "    # print(weather_list)\r\n",
    "# weather_data = pd.concat(weather_list)\r\n",
    "# weather_data = weather_list.drop(['Unnamed: 0'], axis=1)\r\n",
    "\r\n",
    "weather_data = weather_data.drop(['Unnamed: 0'], axis=1)\r\n",
    "\r\n",
    "# select only required fields from today weather\r\n",
    "required_fields = ['district', 'formal_name','temperatureMin', 'temperatureMax', 'precipIntensity', 'precipIntensityMax','humidity', 'dewPoint']\r\n",
    "weather_data = weather_data[required_fields]\r\n",
    "# weather_data.iloc[:, 2:]\r\n",
    "# place_data = weather_data[(weather_data['district'] == 'Jhapa')]\r\n",
    "# place_data = weather_data[(weather_data['formal_name'] == 'Gaida (Kankai)')]\r\n",
    "weather_data"
   ]
  },
  {
   "cell_type": "code",
   "execution_count": 10,
   "metadata": {},
   "outputs": [],
   "source": [
    "\r\n",
    "# select only required fields from today weather\r\n",
    "# required_fields = ['district', 'formal_name','temperatureMin', 'temperatureMax', 'precipIntensity', 'precipIntensityMax','humidity', 'dewPoint']\r\n",
    "# weather_data = today_weather_sheet[required_fields]\r\n",
    "# weather_data.iloc[:, 2:]\r\n",
    "# place_data = weather_data[(weather_data['district'] == 'Jhapa')]\r\n",
    "# place_data = weather_data[(weather_data['formal_name'] == 'Gaida (Kankai)')]\r\n",
    "# place_data"
   ]
  },
  {
   "cell_type": "markdown",
   "metadata": {},
   "source": [
    "# Exploratory Data Analysis (EDA)"
   ]
  },
  {
   "cell_type": "code",
   "execution_count": 11,
   "metadata": {},
   "outputs": [],
   "source": [
    "# Convert categorical data to int\r\n",
    "\r\n",
    "# crops['soil_type'] = crops['soil_type'].astype('category')\r\n",
    "# category_columns = crops.select_dtypes(['category']).columns\r\n",
    "# crops[category_columns] = crops[category_columns].apply(lambda x: x.cat.codes)\r\n",
    "\r\n",
    "\r\n",
    "# soil_types = crops.soil_type.unique()\r\n",
    "\r\n",
    "# crops.soil_type = pd.Categorical(crops.soil_type).codes\r\n",
    "\r\n",
    "# crops['soil_type'].replace(to_replace=soil_types, value=[], inplace=True)"
   ]
  },
  {
   "cell_type": "code",
   "execution_count": 12,
   "metadata": {},
   "outputs": [],
   "source": [
    "# soil_types"
   ]
  },
  {
   "cell_type": "code",
   "execution_count": 13,
   "metadata": {},
   "outputs": [],
   "source": [
    "# crops.soil_type, mapping_index = pd.Series(crops.soil_type).factorize()\r\n",
    "# crops"
   ]
  },
  {
   "cell_type": "code",
   "execution_count": null,
   "metadata": {},
   "outputs": [],
   "source": []
  },
  {
   "cell_type": "markdown",
   "metadata": {},
   "source": [
    "# Model Selection"
   ]
  },
  {
   "cell_type": "code",
   "execution_count": 14,
   "metadata": {},
   "outputs": [
    {
     "data": {
      "text/html": [
       "<div>\n",
       "<style scoped>\n",
       "    .dataframe tbody tr th:only-of-type {\n",
       "        vertical-align: middle;\n",
       "    }\n",
       "\n",
       "    .dataframe tbody tr th {\n",
       "        vertical-align: top;\n",
       "    }\n",
       "\n",
       "    .dataframe thead th {\n",
       "        text-align: right;\n",
       "    }\n",
       "</style>\n",
       "<table border=\"1\" class=\"dataframe\">\n",
       "  <thead>\n",
       "    <tr style=\"text-align: right;\">\n",
       "      <th></th>\n",
       "      <th>N</th>\n",
       "      <th>P</th>\n",
       "      <th>K</th>\n",
       "      <th>temperature</th>\n",
       "      <th>humidity</th>\n",
       "      <th>ph</th>\n",
       "      <th>rainfall</th>\n",
       "      <th>label</th>\n",
       "    </tr>\n",
       "  </thead>\n",
       "  <tbody>\n",
       "    <tr>\n",
       "      <th>0</th>\n",
       "      <td>90</td>\n",
       "      <td>42</td>\n",
       "      <td>43</td>\n",
       "      <td>20.879744</td>\n",
       "      <td>82.002744</td>\n",
       "      <td>6.502985</td>\n",
       "      <td>202.935536</td>\n",
       "      <td>rice</td>\n",
       "    </tr>\n",
       "    <tr>\n",
       "      <th>1</th>\n",
       "      <td>85</td>\n",
       "      <td>58</td>\n",
       "      <td>41</td>\n",
       "      <td>21.770462</td>\n",
       "      <td>80.319644</td>\n",
       "      <td>7.038096</td>\n",
       "      <td>226.655537</td>\n",
       "      <td>rice</td>\n",
       "    </tr>\n",
       "    <tr>\n",
       "      <th>2</th>\n",
       "      <td>60</td>\n",
       "      <td>55</td>\n",
       "      <td>44</td>\n",
       "      <td>23.004459</td>\n",
       "      <td>82.320763</td>\n",
       "      <td>7.840207</td>\n",
       "      <td>263.964248</td>\n",
       "      <td>rice</td>\n",
       "    </tr>\n",
       "    <tr>\n",
       "      <th>3</th>\n",
       "      <td>74</td>\n",
       "      <td>35</td>\n",
       "      <td>40</td>\n",
       "      <td>26.491096</td>\n",
       "      <td>80.158363</td>\n",
       "      <td>6.980401</td>\n",
       "      <td>242.864034</td>\n",
       "      <td>rice</td>\n",
       "    </tr>\n",
       "    <tr>\n",
       "      <th>4</th>\n",
       "      <td>78</td>\n",
       "      <td>42</td>\n",
       "      <td>42</td>\n",
       "      <td>20.130175</td>\n",
       "      <td>81.604873</td>\n",
       "      <td>7.628473</td>\n",
       "      <td>262.717340</td>\n",
       "      <td>rice</td>\n",
       "    </tr>\n",
       "    <tr>\n",
       "      <th>...</th>\n",
       "      <td>...</td>\n",
       "      <td>...</td>\n",
       "      <td>...</td>\n",
       "      <td>...</td>\n",
       "      <td>...</td>\n",
       "      <td>...</td>\n",
       "      <td>...</td>\n",
       "      <td>...</td>\n",
       "    </tr>\n",
       "    <tr>\n",
       "      <th>2195</th>\n",
       "      <td>107</td>\n",
       "      <td>34</td>\n",
       "      <td>32</td>\n",
       "      <td>26.774637</td>\n",
       "      <td>66.413269</td>\n",
       "      <td>6.780064</td>\n",
       "      <td>177.774507</td>\n",
       "      <td>coffee</td>\n",
       "    </tr>\n",
       "    <tr>\n",
       "      <th>2196</th>\n",
       "      <td>99</td>\n",
       "      <td>15</td>\n",
       "      <td>27</td>\n",
       "      <td>27.417112</td>\n",
       "      <td>56.636362</td>\n",
       "      <td>6.086922</td>\n",
       "      <td>127.924610</td>\n",
       "      <td>coffee</td>\n",
       "    </tr>\n",
       "    <tr>\n",
       "      <th>2197</th>\n",
       "      <td>118</td>\n",
       "      <td>33</td>\n",
       "      <td>30</td>\n",
       "      <td>24.131797</td>\n",
       "      <td>67.225123</td>\n",
       "      <td>6.362608</td>\n",
       "      <td>173.322839</td>\n",
       "      <td>coffee</td>\n",
       "    </tr>\n",
       "    <tr>\n",
       "      <th>2198</th>\n",
       "      <td>117</td>\n",
       "      <td>32</td>\n",
       "      <td>34</td>\n",
       "      <td>26.272418</td>\n",
       "      <td>52.127394</td>\n",
       "      <td>6.758793</td>\n",
       "      <td>127.175293</td>\n",
       "      <td>coffee</td>\n",
       "    </tr>\n",
       "    <tr>\n",
       "      <th>2199</th>\n",
       "      <td>104</td>\n",
       "      <td>18</td>\n",
       "      <td>30</td>\n",
       "      <td>23.603016</td>\n",
       "      <td>60.396475</td>\n",
       "      <td>6.779833</td>\n",
       "      <td>140.937041</td>\n",
       "      <td>coffee</td>\n",
       "    </tr>\n",
       "  </tbody>\n",
       "</table>\n",
       "<p>2200 rows × 8 columns</p>\n",
       "</div>"
      ],
      "text/plain": [
       "        N   P   K  temperature   humidity        ph    rainfall   label\n",
       "0      90  42  43    20.879744  82.002744  6.502985  202.935536    rice\n",
       "1      85  58  41    21.770462  80.319644  7.038096  226.655537    rice\n",
       "2      60  55  44    23.004459  82.320763  7.840207  263.964248    rice\n",
       "3      74  35  40    26.491096  80.158363  6.980401  242.864034    rice\n",
       "4      78  42  42    20.130175  81.604873  7.628473  262.717340    rice\n",
       "...   ...  ..  ..          ...        ...       ...         ...     ...\n",
       "2195  107  34  32    26.774637  66.413269  6.780064  177.774507  coffee\n",
       "2196   99  15  27    27.417112  56.636362  6.086922  127.924610  coffee\n",
       "2197  118  33  30    24.131797  67.225123  6.362608  173.322839  coffee\n",
       "2198  117  32  34    26.272418  52.127394  6.758793  127.175293  coffee\n",
       "2199  104  18  30    23.603016  60.396475  6.779833  140.937041  coffee\n",
       "\n",
       "[2200 rows x 8 columns]"
      ]
     },
     "execution_count": 14,
     "metadata": {},
     "output_type": "execute_result"
    }
   ],
   "source": [
    "crops"
   ]
  },
  {
   "cell_type": "code",
   "execution_count": 15,
   "metadata": {},
   "outputs": [
    {
     "data": {
      "text/plain": [
       "array([[90, 42, 43, ..., 6.502985292000001, 202.9355362, 'rice'],\n",
       "       [85, 58, 41, ..., 7.038096361, 226.6555374, 'rice'],\n",
       "       [60, 55, 44, ..., 7.840207144, 263.96424759999996, 'rice'],\n",
       "       ...,\n",
       "       [118, 33, 30, ..., 6.362607851, 173.32283859999995, 'coffee'],\n",
       "       [117, 32, 34, ..., 6.758792552, 127.17529280000001, 'coffee'],\n",
       "       [104, 18, 30, ..., 6.7798326110000025, 140.9370415, 'coffee']],\n",
       "      dtype=object)"
      ]
     },
     "execution_count": 15,
     "metadata": {},
     "output_type": "execute_result"
    }
   ],
   "source": [
    "crops.values"
   ]
  },
  {
   "cell_type": "code",
   "execution_count": 19,
   "metadata": {},
   "outputs": [],
   "source": [
    "# X = crops.drop(columns=['crop', 'crop (ne)'])\r",
    "X_df = crops.drop(columns=['label'])\n",
    "y_df = crops['label']"
   ]
  },
  {
   "cell_type": "code",
   "execution_count": 20,
   "metadata": {},
   "outputs": [],
   "source": [
    "X = X_df.values\n",
    "y = y_df.values"
   ]
  },
  {
   "cell_type": "code",
   "execution_count": 21,
   "metadata": {},
   "outputs": [],
   "source": [
    "X_train, X_test, y_train, y_test = train_test_split(X, y, test_size=0.3, random_state=101)"
   ]
  },
  {
   "cell_type": "code",
   "execution_count": 22,
   "metadata": {},
   "outputs": [
    {
     "data": {
      "text/plain": [
       "1540"
      ]
     },
     "execution_count": 22,
     "metadata": {},
     "output_type": "execute_result"
    }
   ],
   "source": [
    "len(X_train)"
   ]
  },
  {
   "cell_type": "markdown",
   "metadata": {},
   "source": [
    "# without normalization"
   ]
  },
  {
   "cell_type": "code",
   "execution_count": 23,
   "metadata": {},
   "outputs": [
    {
     "data": {
      "image/png": "[encoded data removed]",
      "text/plain": [
       "<Figure size 720x576 with 2 Axes>"
      ]
     },
     "metadata": {
      "needs_background": "light"
     },
     "output_type": "display_data"
    }
   ],
   "source": [
    "k_list = [*range(5, 30)]\r\n",
    "acc_scores = []\r\n",
    "error_rate = []\r\n",
    "for k in k_list:\r\n",
    "    knn = KNeighborsClassifier(n_neighbors = k)\r\n",
    "    knn.fit(X_train, y_train)\r\n",
    "    pred = knn.predict(X_test)\r\n",
    "    \r\n",
    "    acc_scores.append(accuracy_score(y_test, pred))\r\n",
    "    error_rate.append(np.mean(pred != y_test))\r\n",
    "    \r\n",
    "fig, (ax1, ax2) = plt.subplots(nrows=2, ncols=1,sharex=True,figsize=(10, 8))\r\n",
    "ax1.plot(k_list, acc_scores);\r\n",
    "\r\n",
    "ax1.set(title=\"K vs Accuracy Score\",\r\n",
    "        xlabel=\"\",\r\n",
    "        ylabel=\"Accuracy Score\")\r\n",
    "\r\n",
    "ax2.plot(k_list, error_rate, linestyle=\"dashed\", marker='o',markerfacecolor='red', markersize=8)\r\n",
    "ax2.set(title=\"K vs Error Rate\",\r\n",
    "       xlabel=\"K\",\r\n",
    "       ylabel=\"Error Rate\")\r\n",
    "\r\n",
    "\r\n",
    "# Title the figure\r\n",
    "fig.suptitle('KNN Acuracy and Error Analysis', fontsize=12, fontweight='bold');"
   ]
  },
  {
   "cell_type": "code",
   "execution_count": 24,
   "metadata": {},
   "outputs": [
    {
     "data": {
      "text/plain": [
       "0.9833333333333333"
      ]
     },
     "execution_count": 24,
     "metadata": {},
     "output_type": "execute_result"
    }
   ],
   "source": [
    "knn = KNeighborsClassifier(n_neighbors=6)\r\n",
    "knn.fit(X_train, y_train)\r\n",
    "pred = knn.predict(X_test)\r\n",
    "accuracy_score(y_test, pred)"
   ]
  },
  {
   "cell_type": "markdown",
   "metadata": {},
   "source": [
    "## With Normallization"
   ]
  },
  {
   "cell_type": "code",
   "execution_count": 25,
   "metadata": {},
   "outputs": [],
   "source": [
    "# data normalization with sklean\r\n",
    "from sklearn.preprocessing import MinMaxScaler\r\n",
    "\r\n",
    "# fit scaler on training data\r\n",
    "norm = MinMaxScaler().fit(X_train)\r\n",
    "\r\n",
    "# transform train and test data\r\n",
    "X_train_norm = norm.transform(X_train)\r\n",
    "X_test_norm = norm.transform(X_test)"
   ]
  },
  {
   "cell_type": "code",
   "execution_count": 26,
   "metadata": {},
   "outputs": [
    {
     "data": {
      "image/png": "[encoded data removed]",
      "text/plain": [
       "<Figure size 720x576 with 2 Axes>"
      ]
     },
     "metadata": {
      "needs_background": "light"
     },
     "output_type": "display_data"
    }
   ],
   "source": [
    "k_list = [*range(5, 30)]\r\n",
    "acc_scores = []\r\n",
    "error_rate = []\r\n",
    "for k in k_list:\r\n",
    "    knn = KNeighborsClassifier(n_neighbors = k)\r\n",
    "    knn.fit(X_train, y_train)\r\n",
    "    pred = knn.predict(X_test)\r\n",
    "    \r\n",
    "    acc_scores.append(accuracy_score(y_test, pred))\r\n",
    "    error_rate.append(np.mean(pred != y_test))\r\n",
    "    \r\n",
    "fig, (ax1, ax2) = plt.subplots(nrows=2, ncols=1,sharex=True,figsize=(10, 8))\r\n",
    "ax1.plot(k_list, acc_scores);\r\n",
    "\r\n",
    "ax1.set(title=\"K vs Accuracy Score\",\r\n",
    "        xlabel=\"\",\r\n",
    "        ylabel=\"Accuracy Score\")\r\n",
    "\r\n",
    "ax2.plot(k_list, error_rate, linestyle=\"dashed\", marker='o',markerfacecolor='red', markersize=8)\r\n",
    "ax2.set(title=\"K vs Error Rate\",\r\n",
    "       xlabel=\"K\",\r\n",
    "       ylabel=\"Error Rate\")\r\n",
    "\r\n",
    "\r\n",
    "# Title the figure\r\n",
    "fig.suptitle('KNN Acuracy and Error Analysis', fontsize=12, fontweight='bold');"
   ]
  },
  {
   "cell_type": "code",
   "execution_count": 27,
   "metadata": {},
   "outputs": [],
   "source": [
    "labels = np.array(list(set(y)))"
   ]
  },
  {
   "cell_type": "code",
   "execution_count": 28,
   "metadata": {},
   "outputs": [
    {
     "data": {
      "image/png": "[encoded data removed]",
      "text/plain": [
       "<Figure size 432x288 with 2 Axes>"
      ]
     },
     "metadata": {
      "needs_background": "light"
     },
     "output_type": "display_data"
    }
   ],
   "source": [
    "cm = confusion_matrix(y_test, pred)\r\n",
    "sns.heatmap(cm, annot=True, xticklabels=labels, yticklabels=labels,\r\n",
    "           cmap=sns.cm.flare);"
   ]
  },
  {
   "cell_type": "code",
   "execution_count": 29,
   "metadata": {},
   "outputs": [
    {
     "data": {
      "image/png": "[encoded data removed]",
      "text/plain": [
       "<Figure size 432x288 with 2 Axes>"
      ]
     },
     "metadata": {
      "needs_background": "light"
     },
     "output_type": "display_data"
    },
    {
     "data": {
      "image/png": "[encoded data removed]",
      "text/plain": [
       "<Figure size 432x288 with 2 Axes>"
      ]
     },
     "metadata": {
      "needs_background": "light"
     },
     "output_type": "display_data"
    }
   ],
   "source": [
    "titles_options = [(\"Confusion matrix, without normalization\", None),\r\n",
    "                  (\"Normalized confusion matrix\", 'true')]\r\n",
    "\r\n",
    "for title, normalize in titles_options:\r\n",
    "    disp = plot_confusion_matrix(knn,X_test, y_test,\r\n",
    "                                normalize=normalize,\r\n",
    "                                display_labels=labels,\r\n",
    "                                cmap=plt.cm.Blues)"
   ]
  },
  {
   "cell_type": "markdown",
   "metadata": {},
   "source": [
    "## Model Selection"
   ]
  },
  {
   "cell_type": "code",
   "execution_count": 30,
   "metadata": {},
   "outputs": [],
   "source": [
    "models = {\"KNN\": KNeighborsClassifier(),\r\n",
    "         \"Logistic Regression\": LogisticRegression()}\r\n",
    "def fit_and_score(models, X_train, X_test, y_train, y_test):\r\n",
    "    np.random.seed(42)\r\n",
    "    model_scores = {}\r\n",
    "    for name, model in models.items():\r\n",
    "        model.fit(X_train, y_train)\r\n",
    "        model_scores[name]  = model.score(X_test, y_test)\r\n",
    "    return model_scores"
   ]
  },
  {
   "cell_type": "code",
   "execution_count": 31,
   "metadata": {},
   "outputs": [
    {
     "name": "stderr",
     "output_type": "stream",
     "text": [
      "C:\\Users\\Rakes\\anaconda3\\lib\\site-packages\\sklearn\\linear_model\\_logistic.py:762: ConvergenceWarning: lbfgs failed to converge (status=1):\n",
      "STOP: TOTAL NO. of ITERATIONS REACHED LIMIT.\n",
      "\n",
      "Increase the number of iterations (max_iter) or scale the data as shown in:\n",
      "    https://scikit-learn.org/stable/modules/preprocessing.html\n",
      "Please also refer to the documentation for alternative solver options:\n",
      "    https://scikit-learn.org/stable/modules/linear_model.html#logistic-regression\n",
      "  n_iter_i = _check_optimize_result(\n"
     ]
    },
    {
     "data": {
      "text/plain": [
       "{'KNN': 0.9833333333333333, 'Logistic Regression': 0.9621212121212122}"
      ]
     },
     "execution_count": 31,
     "metadata": {},
     "output_type": "execute_result"
    }
   ],
   "source": [
    "model_scores = fit_and_score(models= models,\r\n",
    "                            X_train = X_train,\r\n",
    "                            X_test = X_test,\r\n",
    "                            y_train = y_train,\r\n",
    "                            y_test = y_test)\r\n",
    "model_scores"
   ]
  },
  {
   "cell_type": "markdown",
   "metadata": {},
   "source": [
    "## KNN From Scratch"
   ]
  },
  {
   "cell_type": "code",
   "execution_count": 32,
   "metadata": {},
   "outputs": [],
   "source": [
    "import numpy as np\r\n",
    "\r\n",
    "def euclidean_distance(x1, x2):\r\n",
    "    return np.sqrt(np.sum(np.square(x1 - x2)))\r\n",
    "\r\n",
    "def train(X_train, y_train):\r\n",
    "    return\r\n",
    "\r\n",
    "def predict(X_train, y_train, X_test, k):\r\n",
    "    distances = []\r\n",
    "    neighbors = []\r\n",
    "    \r\n",
    "    for i in range(len(X_train)):\r\n",
    "        # Compute and store euclidean distance\r\n",
    "        distances.append([np.sqrt(np.sum(np.square(X_test - X_train[i]))), i])\r\n",
    "        \r\n",
    "        # sort the distances\r\n",
    "        distances = sorted(distances)\r\n",
    "        \r\n",
    "    for i in range(k):\r\n",
    "        index = distances[i][1]\r\n",
    "        neighbors.append(y_train[i])\r\n",
    "    return neighbors\r\n",
    "\r\n",
    "def k_nearest_neighbor(X_train, y_train, X_test, k):\r\n",
    "    assert k <= len(X_train), \"[X] Size of  K must be smaller than of samples data\"\r\n",
    "    \r\n",
    "    predictions = []\r\n",
    "    for i in range(len(X_test)):\r\n",
    "        predictions.append(predict(X_train, y_train, X_test[i], k))\r\n",
    "    \r\n",
    "    return np.asanyarray(predictions)"
   ]
  },
  {
   "cell_type": "code",
   "execution_count": 33,
   "metadata": {},
   "outputs": [],
   "source": [
    "ed = []\r\n",
    "for i in range(len(X_test)):\r\n",
    "    ed.append(np.array([euclidean_distance(X_test[i], X_t) for X_t in X_train]))\r\n",
    "    # distances = [euclidean_distance(X_test[i], X_t) for X_t in X_train]\r\n",
    "    # ed.append(distances)\r\n"
   ]
  },
  {
   "cell_type": "code",
   "execution_count": 34,
   "metadata": {},
   "outputs": [],
   "source": [
    "from collections import Counter\r\n",
    "import math\r\n",
    "\r\n",
    "def euclidean_distance(x1, x2):\r\n",
    "    return np.sqrt(np.sum(np.square(x1 - x2)))\r\n",
    "\r\n",
    "def mean(labels):\r\n",
    "    return sum(labels) / len(labels)\r\n",
    "\r\n",
    "def mode(labels):\r\n",
    "    return Counter(labels).most_common(1)[0][0]\r\n",
    "\r\n",
    "class KNNClassifier:\r\n",
    "    def __init__(self, k=5, voting_option = mode):\r\n",
    "        self.K = k\r\n",
    "        self.voting_option = voting_option\r\n",
    "    \r\n",
    "    def fit(self, X, y):\r\n",
    "        self.X = X\r\n",
    "        self.y = y\r\n",
    "        \r\n",
    "    def predict(self, X_test):\r\n",
    "        assert self.K <= len(X_train), \"Expected k less than sample size\"\r\n",
    "        \r\n",
    "        predictions = []\r\n",
    "        distances = []\r\n",
    "        # 1. Iterate over all test data\r\n",
    "        for i in range(len(X_test)):\r\n",
    "            \r\n",
    "            # 2. Calculate Euclidean Distance for each test data\r\n",
    "            distances = np.array(np.sqrt(np.sum(np.square(self.X - X_test[i]), axis=1)))\r\n",
    "#             distances = np.array([euclidean_distance(X_t, X_test[i]) for X_t in self.X])\r\n",
    "\r\n",
    "            # 3. Sort the distances and get indices of min. distances up to n_neighbors\r\n",
    "            sorted_distances_index = distances.argsort()[:self.K]\r\n",
    "        \r\n",
    "            # 4. Get labels for selected n_neighbors data\r\n",
    "            k_nearest_labels = [self.y[index] for index in sorted_distances_index]\r\n",
    "            \r\n",
    "            # 5. if voting_option = mean (average), then return average of k_labels\r\n",
    "            # Else, return mode that is majority voting\r\n",
    "            \r\n",
    "            predictions.append(self.voting_option(k_nearest_labels))\r\n",
    "            \r\n",
    "        \r\n",
    "        predictions = np.array(predictions)\r\n",
    "        \r\n",
    "        return predictions\r\n",
    "        "
   ]
  },
  {
   "cell_type": "code",
   "execution_count": 35,
   "metadata": {},
   "outputs": [],
   "source": [
    "class Model:\r\n",
    "    def __init__(self):\r\n",
    "        self.accuracy_score\r\n",
    "        self.error_rate\r\n",
    "    \r\n",
    "    def cross_validation_split(X, y, n_folds = 1):\r\n",
    "        splits = []\r\n",
    "        \r\n",
    "        if len(X) != len(y):\r\n",
    "            raise ValueError(\"Found different length of Samples: len(X) = {}, len(y)= {}\".format(len(X), len(y)))\r\n",
    "        fold_size = int(len(X))\r\n",
    "        for _ in range(n_folds):\r\n",
    "            pass\r\n",
    "                \r\n",
    "    \r\n",
    "    def error_rate(y_true, y_pred):\r\n",
    "        return np.mean(y_true != y_pred)\r\n",
    "    \r\n",
    "    def accuracy_score(y_true, y_pred):\r\n",
    "        return np.mean(y_true == y_pred)\r\n",
    "    \r\n",
    "    def confusion_matrix(y_true, y_pred):\r\n",
    "        pass\r\n",
    "    \r\n",
    "class MinMaxNormalizer:\r\n",
    "    def __init(self, data):\r\n",
    "        self.data = data\r\n",
    "        self.max_data_\r\n",
    "        self.min_data_\r\n",
    "        \r\n",
    "    def fit(self, data):\r\n",
    "        self.data = data\r\n",
    "        self.max_data_ = data.max(axis=0)\r\n",
    "        self.min_data_ = data.min(axis=0)\r\n",
    "        \r\n",
    "    def minmax(self, data = None):\r\n",
    "        if data is None:\r\n",
    "            data = self.data\r\n",
    "        return [data.min(axis=0), data.max(axis=0)]\r\n",
    "    \r\n",
    "    def normalize(self, data = None):\r\n",
    "        if data is None:\r\n",
    "            data = self.data\r\n",
    "        return (data - data.min(axis=0)) / (data.max(axis=0) - data.min(axis=0))"
   ]
  },
  {
   "cell_type": "markdown",
   "metadata": {},
   "source": [
    "## without Normalization"
   ]
  },
  {
   "cell_type": "code",
   "execution_count": 36,
   "metadata": {},
   "outputs": [
    {
     "data": {
      "image/png": "[encoded data removed]",
      "text/plain": [
       "<Figure size 720x576 with 2 Axes>"
      ]
     },
     "metadata": {
      "needs_background": "light"
     },
     "output_type": "display_data"
    }
   ],
   "source": [
    "k_list = [*range(5, 30)]\r\n",
    "acc_scores = []\r\n",
    "error_rate = []\r\n",
    "for k in k_list:\r\n",
    "    knn = KNNClassifier(k)\r\n",
    "    knn.fit(X_train, y_train)\r\n",
    "    pred = knn.predict(X_test)\r\n",
    "    \r\n",
    "    acc_scores.append(accuracy_score(y_test, pred))\r\n",
    "    error_rate.append(np.mean(pred != y_test))\r\n",
    "    \r\n",
    "fig, (ax1, ax2) = plt.subplots(nrows=2, ncols=1,sharex=True,figsize=(10, 8))\r\n",
    "ax1.plot(k_list, acc_scores, linestyle=\"dashed\", marker='o',markerfacecolor='magenta', markersize=8);\r\n",
    "\r\n",
    "ax1.set(title=\"K vs Accuracy Score\",\r\n",
    "        xlabel=\"\",\r\n",
    "        ylabel=\"Accuracy Score\")\r\n",
    "\r\n",
    "ax2.plot(k_list, error_rate, linestyle=\"dashed\", marker='o',markerfacecolor='magenta', markersize=8)\r\n",
    "ax2.set(title=\"K vs Error Rate\",\r\n",
    "       xlabel=\"K\",\r\n",
    "       ylabel=\"Error Rate\")\r\n",
    "\r\n",
    "\r\n",
    "# Title the figure\r\n",
    "fig.suptitle('KNN Acuracy and Error Analysis', fontsize=12, fontweight='bold');"
   ]
  },
  {
   "cell_type": "code",
   "execution_count": 37,
   "metadata": {},
   "outputs": [
    {
     "data": {
      "text/plain": [
       "26"
      ]
     },
     "execution_count": 37,
     "metadata": {},
     "output_type": "execute_result"
    }
   ],
   "source": [
    "k_list[acc_scores.index(min(acc_scores))]"
   ]
  },
  {
   "cell_type": "code",
   "execution_count": 38,
   "metadata": {},
   "outputs": [
    {
     "data": {
      "text/plain": [
       "0.9818181818181818"
      ]
     },
     "execution_count": 38,
     "metadata": {},
     "output_type": "execute_result"
    }
   ],
   "source": [
    "clf = KNNClassifier(k=8)\r\n",
    "clf.fit(X_train, y_train)\r\n",
    "\r\n",
    "pred = clf.predict(X_test)\r\n",
    "accuracy_score(y_test, pred)"
   ]
  },
  {
   "cell_type": "code",
   "execution_count": 39,
   "metadata": {},
   "outputs": [
    {
     "data": {
      "text/plain": [
       "array([[37,  0,  0,  0,  0,  0,  0,  0,  0,  0,  0,  0,  0,  0,  0,  0,\n",
       "         0,  0,  0,  0,  0,  0],\n",
       "       [ 0, 32,  0,  0,  0,  0,  0,  0,  0,  0,  0,  0,  0,  0,  0,  0,\n",
       "         0,  0,  0,  0,  0,  0],\n",
       "       [ 0,  0, 36,  0,  0,  0,  0,  0,  0,  0,  0,  0,  0,  0,  0,  0,\n",
       "         0,  0,  0,  0,  0,  0],\n",
       "       [ 0,  0,  0, 32,  0,  0,  0,  0,  0,  0,  0,  0,  0,  0,  0,  0,\n",
       "         0,  0,  0,  0,  0,  0],\n",
       "       [ 0,  0,  0,  0, 23,  0,  0,  0,  0,  0,  0,  0,  0,  0,  0,  0,\n",
       "         0,  0,  0,  0,  0,  0],\n",
       "       [ 0,  0,  0,  0,  0, 31,  0,  0,  0,  0,  0,  0,  0,  0,  0,  0,\n",
       "         0,  0,  0,  0,  0,  0],\n",
       "       [ 0,  0,  0,  0,  0,  0, 29,  0,  0,  0,  0,  0,  0,  0,  0,  0,\n",
       "         0,  0,  0,  0,  0,  0],\n",
       "       [ 0,  0,  0,  0,  0,  0,  0, 41,  0,  0,  0,  0,  0,  0,  0,  0,\n",
       "         0,  0,  0,  0,  0,  0],\n",
       "       [ 0,  0,  0,  0,  0,  0,  0,  0, 25,  0,  0,  0,  0,  0,  0,  0,\n",
       "         0,  0,  0,  0,  2,  0],\n",
       "       [ 0,  0,  0,  0,  0,  0,  0,  0,  0, 30,  0,  0,  0,  0,  0,  0,\n",
       "         0,  0,  0,  0,  0,  0],\n",
       "       [ 0,  0,  0,  0,  0,  0,  0,  0,  0,  0, 29,  0,  0,  0,  0,  0,\n",
       "         0,  0,  0,  0,  0,  0],\n",
       "       [ 0,  0,  0,  0,  0,  0,  2,  0,  0,  0,  0, 32,  0,  0,  0,  0,\n",
       "         0,  0,  0,  0,  0,  0],\n",
       "       [ 0,  0,  0,  0,  0,  0,  0,  0,  0,  0,  0,  0, 33,  0,  0,  0,\n",
       "         0,  0,  0,  0,  0,  0],\n",
       "       [ 0,  0,  1,  0,  0,  0,  0,  0,  0,  0,  2,  0,  0, 22,  0,  0,\n",
       "         0,  0,  0,  0,  0,  0],\n",
       "       [ 0,  0,  0,  0,  0,  0,  0,  0,  0,  0,  0,  0,  0,  0, 28,  0,\n",
       "         0,  0,  0,  0,  0,  0],\n",
       "       [ 0,  0,  0,  0,  0,  0,  0,  0,  0,  0,  0,  0,  0,  0,  0, 26,\n",
       "         0,  0,  0,  0,  0,  0],\n",
       "       [ 0,  0,  0,  0,  0,  0,  0,  0,  0,  0,  0,  0,  0,  0,  0,  0,\n",
       "        29,  0,  0,  0,  0,  0],\n",
       "       [ 0,  0,  0,  0,  0,  0,  0,  0,  0,  0,  0,  0,  0,  0,  0,  0,\n",
       "         0, 23,  0,  0,  1,  0],\n",
       "       [ 0,  0,  0,  0,  0,  0,  0,  0,  0,  1,  0,  0,  0,  0,  0,  0,\n",
       "         0,  0, 24,  0,  0,  0],\n",
       "       [ 0,  0,  0,  0,  0,  0,  0,  0,  0,  0,  0,  0,  0,  0,  0,  0,\n",
       "         0,  0,  0, 24,  0,  0],\n",
       "       [ 0,  0,  0,  0,  0,  0,  0,  0,  3,  0,  0,  0,  0,  0,  0,  0,\n",
       "         0,  0,  0,  0, 29,  0],\n",
       "       [ 0,  0,  0,  0,  0,  0,  0,  0,  0,  0,  0,  0,  0,  0,  0,  0,\n",
       "         0,  0,  0,  0,  0, 33]], dtype=int64)"
      ]
     },
     "execution_count": 39,
     "metadata": {},
     "output_type": "execute_result"
    }
   ],
   "source": [
    "confusion_matrix(y_test, pred)"
   ]
  },
  {
   "cell_type": "markdown",
   "metadata": {},
   "source": [
    "## with Normalization"
   ]
  },
  {
   "cell_type": "code",
   "execution_count": 40,
   "metadata": {},
   "outputs": [],
   "source": [
    "normalizer = MinMaxNormalizer()\r\n",
    "normalizer.fit(X_train)\r\n",
    "X_train_normalize = normalizer.normalize()\r\n",
    "X_test_normalize = normalizer.normalize(X_test)"
   ]
  },
  {
   "cell_type": "code",
   "execution_count": 41,
   "metadata": {},
   "outputs": [
    {
     "data": {
      "image/png": "[encoded data removed]",
      "text/plain": [
       "<Figure size 720x576 with 2 Axes>"
      ]
     },
     "metadata": {
      "needs_background": "light"
     },
     "output_type": "display_data"
    }
   ],
   "source": [
    "k_list = [*range(5, 30)]\r\n",
    "acc_scores = []\r\n",
    "error_rate = []\r\n",
    "for k in k_list:\r\n",
    "    knn = KNNClassifier(k)\r\n",
    "    knn.fit(X_train_normalize, y_train)\r\n",
    "    pred = knn.predict(X_test_normalize)\r\n",
    "    \r\n",
    "    acc_scores.append(accuracy_score(y_test, pred))\r\n",
    "    error_rate.append(np.mean(pred != y_test))\r\n",
    "    \r\n",
    "fig, (ax1, ax2) = plt.subplots(nrows=2, ncols=1,sharex=True,figsize=(10, 8))\r\n",
    "ax1.plot(k_list, acc_scores, linestyle=\"dashed\", marker='o',markerfacecolor='magenta', markersize=8);\r\n",
    "\r\n",
    "ax1.set(title=\"K vs Accuracy Score\",\r\n",
    "        xlabel=\"\",\r\n",
    "        ylabel=\"Accuracy Score\")\r\n",
    "\r\n",
    "ax2.plot(k_list, error_rate, linestyle=\"dashed\", marker='o',markerfacecolor='magenta', markersize=8)\r\n",
    "ax2.set(title=\"K vs Error Rate\",\r\n",
    "       xlabel=\"K\",\r\n",
    "       ylabel=\"Error Rate\")\r\n",
    "\r\n",
    "\r\n",
    "# Title the figure\r\n",
    "fig.suptitle('KNN Acuracy and Error Analysis', fontsize=12, fontweight='bold');"
   ]
  },
  {
   "cell_type": "code",
   "execution_count": 42,
   "metadata": {},
   "outputs": [
    {
     "data": {
      "text/plain": [
       "(0.9757575757575757, 0.024242424242424242)"
      ]
     },
     "execution_count": 42,
     "metadata": {},
     "output_type": "execute_result"
    }
   ],
   "source": [
    "clf = KNNClassifier(k=8)\r\n",
    "\r\n",
    "clf.fit(X_train_normalize, y_train)\r\n",
    "pred = clf.predict(X_test_normalize)\r\n",
    "\r\n",
    "Model.accuracy_score(y_test, pred), Model.error_rate(y_test, pred)"
   ]
  },
  {
   "cell_type": "code",
   "execution_count": 43,
   "metadata": {},
   "outputs": [
    {
     "data": {
      "text/html": [
       "<div>\n",
       "<style scoped>\n",
       "    .dataframe tbody tr th:only-of-type {\n",
       "        vertical-align: middle;\n",
       "    }\n",
       "\n",
       "    .dataframe tbody tr th {\n",
       "        vertical-align: top;\n",
       "    }\n",
       "\n",
       "    .dataframe thead th {\n",
       "        text-align: right;\n",
       "    }\n",
       "</style>\n",
       "<table border=\"1\" class=\"dataframe\">\n",
       "  <thead>\n",
       "    <tr style=\"text-align: right;\">\n",
       "      <th></th>\n",
       "      <th>N</th>\n",
       "      <th>P</th>\n",
       "      <th>K</th>\n",
       "      <th>temperature</th>\n",
       "      <th>humidity</th>\n",
       "      <th>ph</th>\n",
       "      <th>rainfall</th>\n",
       "    </tr>\n",
       "  </thead>\n",
       "  <tbody>\n",
       "    <tr>\n",
       "      <th>count</th>\n",
       "      <td>2200.000000</td>\n",
       "      <td>2200.000000</td>\n",
       "      <td>2200.000000</td>\n",
       "      <td>2200.000000</td>\n",
       "      <td>2200.000000</td>\n",
       "      <td>2200.000000</td>\n",
       "      <td>2200.000000</td>\n",
       "    </tr>\n",
       "    <tr>\n",
       "      <th>mean</th>\n",
       "      <td>50.551818</td>\n",
       "      <td>53.362727</td>\n",
       "      <td>48.149091</td>\n",
       "      <td>25.616244</td>\n",
       "      <td>71.481779</td>\n",
       "      <td>6.469480</td>\n",
       "      <td>103.463655</td>\n",
       "    </tr>\n",
       "    <tr>\n",
       "      <th>std</th>\n",
       "      <td>36.917334</td>\n",
       "      <td>32.985883</td>\n",
       "      <td>50.647931</td>\n",
       "      <td>5.063749</td>\n",
       "      <td>22.263812</td>\n",
       "      <td>0.773938</td>\n",
       "      <td>54.958389</td>\n",
       "    </tr>\n",
       "    <tr>\n",
       "      <th>min</th>\n",
       "      <td>0.000000</td>\n",
       "      <td>5.000000</td>\n",
       "      <td>5.000000</td>\n",
       "      <td>8.825675</td>\n",
       "      <td>14.258040</td>\n",
       "      <td>3.504752</td>\n",
       "      <td>20.211267</td>\n",
       "    </tr>\n",
       "    <tr>\n",
       "      <th>25%</th>\n",
       "      <td>21.000000</td>\n",
       "      <td>28.000000</td>\n",
       "      <td>20.000000</td>\n",
       "      <td>22.769375</td>\n",
       "      <td>60.261953</td>\n",
       "      <td>5.971693</td>\n",
       "      <td>64.551686</td>\n",
       "    </tr>\n",
       "    <tr>\n",
       "      <th>50%</th>\n",
       "      <td>37.000000</td>\n",
       "      <td>51.000000</td>\n",
       "      <td>32.000000</td>\n",
       "      <td>25.598693</td>\n",
       "      <td>80.473146</td>\n",
       "      <td>6.425045</td>\n",
       "      <td>94.867624</td>\n",
       "    </tr>\n",
       "    <tr>\n",
       "      <th>75%</th>\n",
       "      <td>84.250000</td>\n",
       "      <td>68.000000</td>\n",
       "      <td>49.000000</td>\n",
       "      <td>28.561654</td>\n",
       "      <td>89.948771</td>\n",
       "      <td>6.923643</td>\n",
       "      <td>124.267508</td>\n",
       "    </tr>\n",
       "    <tr>\n",
       "      <th>max</th>\n",
       "      <td>140.000000</td>\n",
       "      <td>145.000000</td>\n",
       "      <td>205.000000</td>\n",
       "      <td>43.675493</td>\n",
       "      <td>99.981876</td>\n",
       "      <td>9.935091</td>\n",
       "      <td>298.560117</td>\n",
       "    </tr>\n",
       "  </tbody>\n",
       "</table>\n",
       "</div>"
      ],
      "text/plain": [
       "                 N            P            K  temperature     humidity  \\\n",
       "count  2200.000000  2200.000000  2200.000000  2200.000000  2200.000000   \n",
       "mean     50.551818    53.362727    48.149091    25.616244    71.481779   \n",
       "std      36.917334    32.985883    50.647931     5.063749    22.263812   \n",
       "min       0.000000     5.000000     5.000000     8.825675    14.258040   \n",
       "25%      21.000000    28.000000    20.000000    22.769375    60.261953   \n",
       "50%      37.000000    51.000000    32.000000    25.598693    80.473146   \n",
       "75%      84.250000    68.000000    49.000000    28.561654    89.948771   \n",
       "max     140.000000   145.000000   205.000000    43.675493    99.981876   \n",
       "\n",
       "                ph     rainfall  \n",
       "count  2200.000000  2200.000000  \n",
       "mean      6.469480   103.463655  \n",
       "std       0.773938    54.958389  \n",
       "min       3.504752    20.211267  \n",
       "25%       5.971693    64.551686  \n",
       "50%       6.425045    94.867624  \n",
       "75%       6.923643   124.267508  \n",
       "max       9.935091   298.560117  "
      ]
     },
     "execution_count": 43,
     "metadata": {},
     "output_type": "execute_result"
    }
   ],
   "source": [
    "crops.describe()"
   ]
  },
  {
   "cell_type": "code",
   "execution_count": null,
   "metadata": {},
   "outputs": [],
   "source": []
  }
 ],
 "metadata": {
  "kernelspec": {
   "display_name": "Python 3",
   "language": "python",
   "name": "python3"
  },
  "language_info": {
   "codemirror_mode": {
    "name": "ipython",
    "version": 3
   },
   "file_extension": ".py",
   "mimetype": "text/x-python",
   "name": "python",
   "nbconvert_exporter": "python",
   "pygments_lexer": "ipython3",
   "version": "3.8.5"
  }
 },
 "nbformat": 4,
 "nbformat_minor": 4
}
